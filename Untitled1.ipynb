{
 "cells": [
  {
   "cell_type": "code",
   "execution_count": 1,
   "metadata": {},
   "outputs": [
    {
     "name": "stdout",
     "output_type": "stream",
     "text": [
      "no.of trems15\n",
      "fibonnaic series : \n",
      "0\n",
      "1\n",
      "1\n",
      "2\n",
      "3\n",
      "5\n",
      "8\n",
      "13\n",
      "21\n",
      "34\n",
      "55\n",
      "89\n",
      "144\n",
      "233\n",
      "377\n"
     ]
    }
   ],
   "source": [
    "n=int(input(\"no.of trems\"))\n",
    "n1=0\n",
    "n2=1\n",
    "count=0\n",
    "if n<=0 :\n",
    "    print(\"fibonocci series does not exist\")\n",
    "elif n==1:\n",
    "    print(n1)\n",
    "else : \n",
    "    print(\"fibonnaic series : \")\n",
    "    while count < n : \n",
    "        print(n1)\n",
    "        n3=n1+n2\n",
    "        n1=n2\n",
    "        n2=n3\n",
    "        count+=1"
   ]
  },
  {
   "cell_type": "code",
   "execution_count": 5,
   "metadata": {},
   "outputs": [
    {
     "name": "stdout",
     "output_type": "stream",
     "text": [
      "12 5 64 "
     ]
    }
   ],
   "source": [
    "#positive numbers in range\n",
    "list1=[12,-7,5,64,-14]\n",
    "for num in list1 :\n",
    "    if num >=0 :\n",
    "      print(num,end=\" \")"
   ]
  },
  {
   "cell_type": "code",
   "execution_count": 13,
   "metadata": {},
   "outputs": [
    {
     "name": "stdout",
     "output_type": "stream",
     "text": [
      "12 14 3 "
     ]
    }
   ],
   "source": [
    "list2=[12,14,-95,3]\n",
    "for num in list2 :\n",
    "    if num >=0 :\n",
    "     print(num,end=\" \")"
   ]
  },
  {
   "cell_type": "code",
   "execution_count": null,
   "metadata": {},
   "outputs": [],
   "source": []
  }
 ],
 "metadata": {
  "kernelspec": {
   "display_name": "Python 3",
   "language": "python",
   "name": "python3"
  },
  "language_info": {
   "codemirror_mode": {
    "name": "ipython",
    "version": 3
   },
   "file_extension": ".py",
   "mimetype": "text/x-python",
   "name": "python",
   "nbconvert_exporter": "python",
   "pygments_lexer": "ipython3",
   "version": "3.8.3"
  }
 },
 "nbformat": 4,
 "nbformat_minor": 4
}
